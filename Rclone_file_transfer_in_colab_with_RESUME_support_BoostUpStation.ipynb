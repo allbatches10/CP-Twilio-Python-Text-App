{
  "nbformat": 4,
  "nbformat_minor": 0,
  "metadata": {
    "colab": {
      "name": "Rclone_file_transfer_in_colab_with_RESUME_support_BoostUpStation.ipynb",
      "provenance": [],
      "collapsed_sections": []
    },
    "kernelspec": {
      "name": "python3",
      "display_name": "Python 3"
    },
    "language_info": {
      "name": "python"
    },
    "widgets": {
      "application/vnd.jupyter.widget-state+json": {
        "9a356f02e7234471b3b1420ea2b31ce1": {
          "model_module": "@jupyter-widgets/controls",
          "model_name": "HBoxModel",
          "model_module_version": "1.5.0",
          "state": {
            "_view_name": "HBoxView",
            "_dom_classes": [],
            "_model_name": "HBoxModel",
            "_view_module": "@jupyter-widgets/controls",
            "_model_module_version": "1.5.0",
            "_view_count": null,
            "_view_module_version": "1.5.0",
            "box_style": "",
            "layout": "IPY_MODEL_068871092c1946b791bce6a32139a377",
            "_model_module": "@jupyter-widgets/controls",
            "children": [
              "IPY_MODEL_cbcedd26d8834a9da93742145f782938"
            ]
          }
        },
        "068871092c1946b791bce6a32139a377": {
          "model_module": "@jupyter-widgets/base",
          "model_name": "LayoutModel",
          "model_module_version": "1.2.0",
          "state": {
            "_view_name": "LayoutView",
            "grid_template_rows": null,
            "right": null,
            "justify_content": null,
            "_view_module": "@jupyter-widgets/base",
            "overflow": null,
            "_model_module_version": "1.2.0",
            "_view_count": null,
            "flex_flow": null,
            "width": null,
            "min_width": null,
            "border": null,
            "align_items": null,
            "bottom": null,
            "_model_module": "@jupyter-widgets/base",
            "top": null,
            "grid_column": null,
            "overflow_y": null,
            "overflow_x": null,
            "grid_auto_flow": null,
            "grid_area": null,
            "grid_template_columns": null,
            "flex": null,
            "_model_name": "LayoutModel",
            "justify_items": null,
            "grid_row": null,
            "max_height": null,
            "align_content": null,
            "visibility": null,
            "align_self": null,
            "height": null,
            "min_height": null,
            "padding": null,
            "grid_auto_rows": null,
            "grid_gap": null,
            "max_width": null,
            "order": null,
            "_view_module_version": "1.2.0",
            "grid_template_areas": null,
            "object_position": null,
            "object_fit": null,
            "grid_auto_columns": null,
            "margin": null,
            "display": null,
            "left": null
          }
        },
        "cbcedd26d8834a9da93742145f782938": {
          "model_module": "@jupyter-widgets/controls",
          "model_name": "VBoxModel",
          "model_module_version": "1.5.0",
          "state": {
            "_view_name": "VBoxView",
            "_dom_classes": [],
            "_model_name": "VBoxModel",
            "_view_module": "@jupyter-widgets/controls",
            "_model_module_version": "1.5.0",
            "_view_count": null,
            "_view_module_version": "1.5.0",
            "box_style": "",
            "layout": "IPY_MODEL_4489182c6a754f54b4a0347101612595",
            "_model_module": "@jupyter-widgets/controls",
            "children": [
              "IPY_MODEL_a51dda61b6c9447581bae300f962d118",
              "IPY_MODEL_982bc885169b4fb68a8ef0b5e9b96f2f"
            ]
          }
        },
        "4489182c6a754f54b4a0347101612595": {
          "model_module": "@jupyter-widgets/base",
          "model_name": "LayoutModel",
          "model_module_version": "1.2.0",
          "state": {
            "_view_name": "LayoutView",
            "grid_template_rows": null,
            "right": null,
            "justify_content": null,
            "_view_module": "@jupyter-widgets/base",
            "overflow": null,
            "_model_module_version": "1.2.0",
            "_view_count": null,
            "flex_flow": null,
            "width": null,
            "min_width": null,
            "border": null,
            "align_items": null,
            "bottom": null,
            "_model_module": "@jupyter-widgets/base",
            "top": null,
            "grid_column": null,
            "overflow_y": null,
            "overflow_x": null,
            "grid_auto_flow": null,
            "grid_area": null,
            "grid_template_columns": null,
            "flex": null,
            "_model_name": "LayoutModel",
            "justify_items": null,
            "grid_row": null,
            "max_height": null,
            "align_content": null,
            "visibility": null,
            "align_self": null,
            "height": null,
            "min_height": null,
            "padding": null,
            "grid_auto_rows": null,
            "grid_gap": null,
            "max_width": null,
            "order": null,
            "_view_module_version": "1.2.0",
            "grid_template_areas": null,
            "object_position": null,
            "object_fit": null,
            "grid_auto_columns": null,
            "margin": null,
            "display": null,
            "left": null
          }
        },
        "a51dda61b6c9447581bae300f962d118": {
          "model_module": "@jupyter-widgets/controls",
          "model_name": "HTMLModel",
          "model_module_version": "1.5.0",
          "state": {
            "_view_name": "HTMLView",
            "style": "IPY_MODEL_d9dc14f355124f2ab82fd983dcc24177",
            "_dom_classes": [],
            "description": "",
            "_model_name": "HTMLModel",
            "placeholder": "​",
            "_view_module": "@jupyter-widgets/controls",
            "_model_module_version": "1.5.0",
            "value": "<h3 style=\"font-family:Trebuchet MS;color:#4f8bd6;margin-top:0px;\">\n                  Rclone available config...</h3>\n                  ",
            "_view_count": null,
            "_view_module_version": "1.5.0",
            "description_tooltip": null,
            "_model_module": "@jupyter-widgets/controls",
            "layout": "IPY_MODEL_8c5070a9f963406a9c01b96764330ab6"
          }
        },
        "982bc885169b4fb68a8ef0b5e9b96f2f": {
          "model_module": "@jupyter-widgets/controls",
          "model_name": "DropdownModel",
          "model_module_version": "1.5.0",
          "state": {
            "_options_labels": [
              "gdrive",
              "gdrive1",
              "mega"
            ],
            "_view_name": "DropdownView",
            "style": "IPY_MODEL_9970513fc79a4217bff3e37d54a691cd",
            "_dom_classes": [],
            "description": "",
            "_model_name": "DropdownModel",
            "index": 1,
            "_view_module": "@jupyter-widgets/controls",
            "_model_module_version": "1.5.0",
            "_view_count": null,
            "disabled": false,
            "_view_module_version": "1.5.0",
            "description_tooltip": null,
            "_model_module": "@jupyter-widgets/controls",
            "layout": "IPY_MODEL_dd15c85fdcda4fa78b90dd913ea39837"
          }
        },
        "d9dc14f355124f2ab82fd983dcc24177": {
          "model_module": "@jupyter-widgets/controls",
          "model_name": "DescriptionStyleModel",
          "model_module_version": "1.5.0",
          "state": {
            "_view_name": "StyleView",
            "_model_name": "DescriptionStyleModel",
            "description_width": "",
            "_view_module": "@jupyter-widgets/base",
            "_model_module_version": "1.5.0",
            "_view_count": null,
            "_view_module_version": "1.2.0",
            "_model_module": "@jupyter-widgets/controls"
          }
        },
        "8c5070a9f963406a9c01b96764330ab6": {
          "model_module": "@jupyter-widgets/base",
          "model_name": "LayoutModel",
          "model_module_version": "1.2.0",
          "state": {
            "_view_name": "LayoutView",
            "grid_template_rows": null,
            "right": null,
            "justify_content": null,
            "_view_module": "@jupyter-widgets/base",
            "overflow": null,
            "_model_module_version": "1.2.0",
            "_view_count": null,
            "flex_flow": null,
            "width": null,
            "min_width": null,
            "border": null,
            "align_items": null,
            "bottom": null,
            "_model_module": "@jupyter-widgets/base",
            "top": null,
            "grid_column": null,
            "overflow_y": null,
            "overflow_x": null,
            "grid_auto_flow": null,
            "grid_area": null,
            "grid_template_columns": null,
            "flex": null,
            "_model_name": "LayoutModel",
            "justify_items": null,
            "grid_row": null,
            "max_height": null,
            "align_content": null,
            "visibility": null,
            "align_self": null,
            "height": null,
            "min_height": null,
            "padding": null,
            "grid_auto_rows": null,
            "grid_gap": null,
            "max_width": null,
            "order": null,
            "_view_module_version": "1.2.0",
            "grid_template_areas": null,
            "object_position": null,
            "object_fit": null,
            "grid_auto_columns": null,
            "margin": null,
            "display": null,
            "left": null
          }
        },
        "9970513fc79a4217bff3e37d54a691cd": {
          "model_module": "@jupyter-widgets/controls",
          "model_name": "DescriptionStyleModel",
          "model_module_version": "1.5.0",
          "state": {
            "_view_name": "StyleView",
            "_model_name": "DescriptionStyleModel",
            "description_width": "",
            "_view_module": "@jupyter-widgets/base",
            "_model_module_version": "1.5.0",
            "_view_count": null,
            "_view_module_version": "1.2.0",
            "_model_module": "@jupyter-widgets/controls"
          }
        },
        "dd15c85fdcda4fa78b90dd913ea39837": {
          "model_module": "@jupyter-widgets/base",
          "model_name": "LayoutModel",
          "model_module_version": "1.2.0",
          "state": {
            "_view_name": "LayoutView",
            "grid_template_rows": null,
            "right": null,
            "justify_content": null,
            "_view_module": "@jupyter-widgets/base",
            "overflow": null,
            "_model_module_version": "1.2.0",
            "_view_count": null,
            "flex_flow": null,
            "width": null,
            "min_width": null,
            "border": null,
            "align_items": null,
            "bottom": null,
            "_model_module": "@jupyter-widgets/base",
            "top": null,
            "grid_column": null,
            "overflow_y": null,
            "overflow_x": null,
            "grid_auto_flow": null,
            "grid_area": null,
            "grid_template_columns": null,
            "flex": null,
            "_model_name": "LayoutModel",
            "justify_items": null,
            "grid_row": null,
            "max_height": null,
            "align_content": null,
            "visibility": null,
            "align_self": null,
            "height": null,
            "min_height": null,
            "padding": null,
            "grid_auto_rows": null,
            "grid_gap": null,
            "max_width": null,
            "order": null,
            "_view_module_version": "1.2.0",
            "grid_template_areas": null,
            "object_position": null,
            "object_fit": null,
            "grid_auto_columns": null,
            "margin": null,
            "display": null,
            "left": null
          }
        }
      }
    }
  },
  "cells": [
    {
      "cell_type": "code",
      "metadata": {
        "id": "mzLk6hYzOy5Y"
      },
      "source": [
        ""
      ],
      "execution_count": null,
      "outputs": []
    },
    {
      "cell_type": "markdown",
      "metadata": {
        "id": "ZbwgNqRYPndP"
      },
      "source": [
        "#<<----<strong>Transfer Files between different Cloud Drives using rclone\n",
        "\n",
        "#RESUME Supported :)\n",
        "#Mega, OneDrive, Google Drive, Shared Drive, etc..\n",
        "#You can use others too :)</strong>\n",
        "\n",
        "#Subscribe: <a href=\"https://www.youtube.com/boostupstation\">BoostUpStation</a>"
      ]
    },
    {
      "cell_type": "code",
      "metadata": {
        "id": "RzPulZDDQLg5"
      },
      "source": [
        ""
      ],
      "execution_count": null,
      "outputs": []
    },
    {
      "cell_type": "code",
      "metadata": {
        "id": "BuvdTmE_Ersm",
        "cellView": "form"
      },
      "source": [
        "#@title <<----<strong>Install rClone</strong>\n",
        "%%capture\n",
        "AUTO_RECONNECT = True #@param {type:\"boolean\"}\n",
        "RCLONE = True #@param {type:\"boolean\"}\n",
        "#@markdown Check AUTO_RECONNECT to prevent notebook from disconnecting!\n",
        "\n",
        "from os import makedirs\n",
        "makedirs(\"/root/.config/rclone\", exist_ok = True) \n",
        "  \n",
        "if RCLONE==True:\n",
        "  !curl https://rclone.org/install.sh | sudo bash\n",
        "\n",
        "if AUTO_RECONNECT:\n",
        "  import IPython\n",
        "  from google.colab import output\n",
        "\n",
        "  display(IPython.display.Javascript('''\n",
        "  function ClickConnect(){\n",
        "    btn = document.querySelector(\"colab-connect-button\")\n",
        "    if (btn != null){\n",
        "      console.log(\"Click colab-connect-button\"); \n",
        "      btn.click() \n",
        "      }\n",
        "    \n",
        "    btn = document.getElementById('ok')\n",
        "    if (btn != null){\n",
        "      console.log(\"Click reconnect\"); \n",
        "      btn.click() \n",
        "      }\n",
        "    }\n",
        "    \n",
        "  setInterval(ClickConnect,60000)\n",
        "  '''))"
      ],
      "execution_count": 1,
      "outputs": []
    },
    {
      "cell_type": "code",
      "metadata": {
        "id": "D3LCtCOnQ6oq"
      },
      "source": [
        ""
      ],
      "execution_count": null,
      "outputs": []
    },
    {
      "cell_type": "code",
      "metadata": {
        "id": "J-S7hYTzLpZK",
        "cellView": "form",
        "colab": {
          "resources": {
            "http://localhost:8080/nbextensions/google.colab/files.js": {
              "data": "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",
              "ok": true,
              "headers": [
                [
                  "content-type",
                  "application/javascript"
                ]
              ],
              "status": 200,
              "status_text": ""
            }
          },
          "base_uri": "https://localhost:8080/",
          "height": 108
        },
        "outputId": "0cc41131-4e25-4ece-e9cf-c3ac72040354"
      },
      "source": [
        "#@title <-----<strong>Upload your  Rclone.config file</strong>\n",
        "def moveConfig():\n",
        "  !mv rclone.conf /root/.config/rclone/rclone.conf\n",
        "\n",
        "from google.colab import files\n",
        "\n",
        "uploaded = files.upload()\n",
        "\n",
        "for fn in uploaded.keys():\n",
        "  print('User uploaded file \"{name}\" with length {length} bytes'.format(\n",
        "      name=fn, length=len(uploaded[fn])))\n",
        "moveConfig()\n",
        "print(\"Moved rclone.conf to /root/.config/rclone/rclone.conf\")"
      ],
      "execution_count": 2,
      "outputs": [
        {
          "output_type": "display_data",
          "data": {
            "text/html": [
              "\n",
              "     <input type=\"file\" id=\"files-f9c30b18-8ea5-4fca-be30-80eea9e115ed\" name=\"files[]\" multiple disabled\n",
              "        style=\"border:none\" />\n",
              "     <output id=\"result-f9c30b18-8ea5-4fca-be30-80eea9e115ed\">\n",
              "      Upload widget is only available when the cell has been executed in the\n",
              "      current browser session. Please rerun this cell to enable.\n",
              "      </output>\n",
              "      <script src=\"/nbextensions/google.colab/files.js\"></script> "
            ],
            "text/plain": [
              "<IPython.core.display.HTML object>"
            ]
          },
          "metadata": {
            "tags": []
          }
        },
        {
          "output_type": "stream",
          "text": [
            "Saving rclone.conf to rclone.conf\n",
            "User uploaded file \"rclone.conf\" with length 1023 bytes\n",
            "Moved rclone.conf to /root/.config/rclone/rclone.conf\n"
          ],
          "name": "stdout"
        }
      ]
    },
    {
      "cell_type": "code",
      "metadata": {
        "id": "1cNs7RvWRFqa",
        "colab": {
          "base_uri": "https://localhost:8080/",
          "height": 291,
          "referenced_widgets": [
            "9a356f02e7234471b3b1420ea2b31ce1",
            "068871092c1946b791bce6a32139a377",
            "cbcedd26d8834a9da93742145f782938",
            "4489182c6a754f54b4a0347101612595",
            "a51dda61b6c9447581bae300f962d118",
            "982bc885169b4fb68a8ef0b5e9b96f2f",
            "d9dc14f355124f2ab82fd983dcc24177",
            "8c5070a9f963406a9c01b96764330ab6",
            "9970513fc79a4217bff3e37d54a691cd",
            "dd15c85fdcda4fa78b90dd913ea39837"
          ]
        },
        "cellView": "form",
        "outputId": "511de7a9-081e-4ea2-d9ea-57e0e8fa5abc"
      },
      "source": [
        "#@markdown <center><h3>Rclone MOUNT / UNMOUNT</h3>Mount the remote as file system on a mountpoint.</center>\n",
        "import os\n",
        "from IPython.display import HTML, clear_output\n",
        "import uuid\n",
        "import ipywidgets as widgets\n",
        "from google.colab import output\n",
        "import re\n",
        "##########################################\n",
        "\n",
        "class MakeButton(object):\n",
        "  def __init__(self, title, callback, style):\n",
        "    self._title = title\n",
        "    self._callback = callback\n",
        "    self._style = style\n",
        "  def _repr_html_(self):\n",
        "    callback_id = 'button-' + str(uuid.uuid4())\n",
        "    output.register_callback(callback_id, self._callback)\n",
        "    if self._style != \"\":\n",
        "      style_html = \"p-Widget jupyter-widgets jupyter-button widget-button mod-\" + self._style\n",
        "    else:\n",
        "      style_html = \"p-Widget jupyter-widgets jupyter-button widget-button\"\n",
        "    template = \"\"\"<button class=\"{style_html}\" id=\"{callback_id}\">{title}</button>\n",
        "        <script>\n",
        "          document.querySelector(\"#{callback_id}\").onclick = (e) => {{\n",
        "            google.colab.kernel.invokeFunction('{callback_id}', [], {{}})\n",
        "            e.preventDefault();\n",
        "          }};\n",
        "        </script>\"\"\"\n",
        "    html = template.format(title=self._title, callback_id=callback_id, style_html=style_html)\n",
        "    return html\n",
        "  \n",
        "def ShowAC():\n",
        "  clear_output(wait=True)\n",
        "  display(\n",
        "      widgets.HBox(\n",
        "          [widgets.VBox(\n",
        "              [widgets.HTML(\n",
        "                  '''<h3 style=\"font-family:Trebuchet MS;color:#4f8bd6;margin-top:0px;\">\n",
        "                  Rclone available config...</h3>\n",
        "                  '''\n",
        "                  ),\n",
        "               mountNam]\n",
        "               )\n",
        "          ]\n",
        "          )\n",
        "      )\n",
        "  \n",
        "  display(HTML(\"<br>\"), MakeButton(\"Mount\", MountCMD, \"primary\"),\n",
        "          MakeButton(\"Unmount\", unmountCMD, \"danger\"))\n",
        "content = open(\"/root/.config/rclone/rclone.conf\").read()\n",
        "avCon = re.findall(r\"^\\[(.+)\\]$\", content, re.M)\n",
        "mountNam = widgets.Dropdown(options=avCon)\n",
        "cache_path=\"/content/temp/rCloneTemp\"\n",
        "def MountCMD():\n",
        "    mPoint = f\"/content/drives/{mountNam.value}\"\n",
        "    os.makedirs(mPoint, exist_ok=True)\n",
        "    !rclone mount $mountNam.value: $mPoint --user-agent 'Mozilla' --buffer-size 256M --transfers 10 --vfs-cache-mode minimal --vfs-read-chunk-size 500M --vfs-cache-max-size 50G --vfs-cache-max-age 0h0m1s --vfs-cache-poll-interval 0m1s --cache-dir '/content/temp/rCloneTemp' --allow-other --daemon \n",
        "\n",
        "    if os.path.isdir(mPoint)== True:\n",
        "      print(f\"Mount success! - \\t{mPoint}\")\n",
        "    else:\n",
        "      print(f\"Mount failed! - \\t{mPoint}\")\n",
        "\n",
        "def unmountCMD():\n",
        "  mPoint = f\"/content/drives/{mountNam.value}\"\n",
        "  if os.system(f\"fusermount -uz {mPoint}\") == 0:\n",
        "    runSh(f\"rm -r {mPoint}\")\n",
        "    print(f\"Unmounted success! - \\t{mPoint}\")\n",
        "  else:\n",
        "    runSh(f\"fusermount -uz {mPoint}\", output=True)\n",
        "\n",
        "ShowAC()"
      ],
      "execution_count": 3,
      "outputs": [
        {
          "output_type": "display_data",
          "data": {
            "application/vnd.jupyter.widget-view+json": {
              "model_id": "9a356f02e7234471b3b1420ea2b31ce1",
              "version_minor": 0,
              "version_major": 2
            },
            "text/plain": [
              "HBox(children=(VBox(children=(HTML(value='<h3 style=\"font-family:Trebuchet MS;color:#4f8bd6;margin-top:0px;\">\\…"
            ]
          },
          "metadata": {
            "tags": []
          }
        },
        {
          "output_type": "display_data",
          "data": {
            "text/html": [
              "<br>"
            ],
            "text/plain": [
              "<IPython.core.display.HTML object>"
            ]
          },
          "metadata": {
            "tags": []
          }
        },
        {
          "output_type": "display_data",
          "data": {
            "text/html": [
              "<button class=\"p-Widget jupyter-widgets jupyter-button widget-button mod-primary\" id=\"button-fdd0f891-ad81-40da-b9d9-d44ddc502fb8\">Mount</button>\n",
              "        <script>\n",
              "          document.querySelector(\"#button-fdd0f891-ad81-40da-b9d9-d44ddc502fb8\").onclick = (e) => {\n",
              "            google.colab.kernel.invokeFunction('button-fdd0f891-ad81-40da-b9d9-d44ddc502fb8', [], {})\n",
              "            e.preventDefault();\n",
              "          };\n",
              "        </script>"
            ],
            "text/plain": [
              "<__main__.MakeButton at 0x7fd92b93bf10>"
            ]
          },
          "metadata": {
            "tags": []
          }
        },
        {
          "output_type": "display_data",
          "data": {
            "text/html": [
              "<button class=\"p-Widget jupyter-widgets jupyter-button widget-button mod-danger\" id=\"button-829bae9f-0886-4965-901f-14319a1188a0\">Unmount</button>\n",
              "        <script>\n",
              "          document.querySelector(\"#button-829bae9f-0886-4965-901f-14319a1188a0\").onclick = (e) => {\n",
              "            google.colab.kernel.invokeFunction('button-829bae9f-0886-4965-901f-14319a1188a0', [], {})\n",
              "            e.preventDefault();\n",
              "          };\n",
              "        </script>"
            ],
            "text/plain": [
              "<__main__.MakeButton at 0x7fd92b93bad0>"
            ]
          },
          "metadata": {
            "tags": []
          }
        },
        {
          "output_type": "stream",
          "text": [
            "2021/08/10 11:23:55 Fatal error: Directory is not empty: /content/drives/gdrive If you want to mount it anyway use: --allow-non-empty option\n",
            "Mount success! - \t/content/drives/gdrive\n",
            "2021/08/10 11:24:05 Fatal error: Directory is not empty: /content/drives/mega If you want to mount it anyway use: --allow-non-empty option\n",
            "Mount success! - \t/content/drives/mega\n",
            "^C\n",
            "Mount success! - \t/content/drives/gdrive1\n"
          ],
          "name": "stdout"
        }
      ]
    },
    {
      "cell_type": "markdown",
      "metadata": {
        "id": "a4TZEfjtSF5C"
      },
      "source": [
        "# <center>Rclone Mount/Unmount/Copy </center>\n",
        "<center><img src=\"https://forum.rclone.org/uploads/default/original/2X/d/da6ccb2784ff3fa73d9339300530e0aae4d6cebd.png\" alt=\"rclone forum\" width=150></center>"
      ]
    },
    {
      "cell_type": "code",
      "metadata": {
        "id": "EiHlpwVDOjhx",
        "cellView": "form",
        "colab": {
          "base_uri": "https://localhost:8080/"
        },
        "outputId": "be5906b2-325f-4b42-9809-b35b1c2a3730"
      },
      "source": [
        " \n",
        "#@markdown <center><img src=\"https://forum.rclone.org/uploads/default/original/2X/d/da6ccb2784ff3fa73d9339300530e0aae4d6cebd.png\" alt=\"rclone forum\" width=150></center>\n",
        " \n",
        "#@markdown ---\n",
        "source = \"/content/drives/gdrive/0.Study/The winners Institute /Maths/Ratio and Proportion \" #@param {type:\"string\"}\n",
        "destination = \"/content/drives/mega/Ratio and Proportion \" #@param {type:\"string\"}\n",
        "mode = \"copy\" #@param [\"copy\", \"check\"]\n",
        "dry_run = False #@param {type:\"boolean\"}\n",
        "Extra_args = \"\" #@param {type:\"string\"}\n",
        "#@markdown ---\n",
        "Email_notification = False #@param {type:\"boolean\"}\n",
        "logs = False #@param {type:\"boolean\"}\n",
        "emailID = \"\" #@param {type:\"string\"}\n",
        "password = \"\" #@param {type:\"string\"}\n",
        "Receiver_ID = \"\" #@param {type:\"string\"}\n",
        "#@markdown ---\n",
        "import smtplib \n",
        "########################################\n",
        "args = \"--transfers 20 --checkers 20 --stats-one-line --stats=5s -v --tpslimit 95 --tpslimit-burst 40 \"\n",
        "if mode == \"check\":\n",
        "  args += \"--one-way \"\n",
        "if dry_run == True:\n",
        "    args +=\" --dry-run \"\n",
        "if logs == True:\n",
        "  args += \" --log-file rClone_log.txt \"\n",
        "if Extra_args != \"\":\n",
        "  args +=Extra_args\n",
        "######################################\n",
        "def runrClone():\n",
        "  !rclone --user-agent \"Mozilla\" \"$mode\" \"$source\" \"$destination\" $args\n",
        "  \n",
        "def checkEmail():\n",
        "  if (Email_notification == True and logs == False):\n",
        "    print(\"You will receive only a notification after task has finished.\")\n",
        "    runrClone()\n",
        "    #Send only notification\n",
        "     \n",
        "    s = smtplib.SMTP('smtp.gmail.com', 587) \n",
        "    s.starttls() \n",
        "    s.login(emailID , password)\n",
        "    message = \"Your rClone task has Completed!\"\n",
        "    s.sendmail(emailID, Receiver_ID, message)\n",
        "    print(\"Email Alert Sent!\")  \n",
        "    s.quit()\n",
        "  elif (Email_notification == True and logs == True):\n",
        "    print(\"You will receive a notification with log attached after task has finished.\")\n",
        "    runrClone()\n",
        "    #Sending email notification with logs\n",
        "    \n",
        "    from email.mime.multipart import MIMEMultipart \n",
        "    from email.mime.text import MIMEText \n",
        "    from email.mime.base import MIMEBase \n",
        "    from email import encoders \n",
        "\n",
        "    fromaddr = emailID\n",
        "    toaddr = Receiver_ID\n",
        "    msg = MIMEMultipart() \n",
        "    # storing the senders email address \n",
        "    msg['From'] = fromaddr \n",
        "    # storing the receivers email address \n",
        "    msg['To'] = toaddr \n",
        "    # storing the subject \n",
        "    msg['Subject'] = \"Colab has Finished Running your Cell\"\n",
        "    # string to store the body of the mail \n",
        "    body = \"Your rClone Task has Completed! Visit link to view : https://colab.research.google.com/github/SKGHD/Handy/blob/master/HandBrakeCLI_Colab.ipynb\"\n",
        "\n",
        "    msg.attach(MIMEText(body, 'plain'))\n",
        "    filename = \"rClone_log.txt\"\n",
        "    attachment = open(\"/content/rClone_log.txt\", \"rb\")\n",
        "    p = MIMEBase('application', 'octet-stream') \n",
        "    p.set_payload((attachment).read()) \n",
        "    # encode into base64 \n",
        "    encoders.encode_base64(p) \n",
        " \n",
        "    p.add_header('Content-Disposition', \"attachment; filename= %s\" % filename) \n",
        "    msg.attach(p)  \n",
        "    s = smtplib.SMTP('smtp.gmail.com', 587) \n",
        "    s.starttls() \n",
        "    s.login(fromaddr, password) \n",
        "    text = msg.as_string() \n",
        "    s.sendmail(fromaddr, toaddr, text)\n",
        "    print(\"Email Alert Sent with log!\")  \n",
        "    s.quit() \n",
        "  elif (Email_notification == False and logs == False):\n",
        "    print(\"You will not receive any notification!!!.\")\n",
        "    runrClone()\n",
        "checkEmail()"
      ],
      "execution_count": null,
      "outputs": [
        {
          "output_type": "stream",
          "text": [
            "You will not receive any notification!!!.\n",
            "2021/08/10 12:06:46 INFO  : Starting transaction limiter: max 95 transactions/s with burst 40\n",
            "2021/08/10 12:06:51 INFO  :   150.953Mi / 6.974 GiByte, 2%, 32.148 MiByte/s, ETA 3m37s\n",
            "2021/08/10 12:06:56 INFO  :   308.859Mi / 6.974 GiByte, 4%, 31.867 MiByte/s, ETA 3m34s\n",
            "2021/08/10 12:07:01 INFO  :   525.984Mi / 6.974 GiByte, 7%, 34.792 MiByte/s, ETA 3m10s\n",
            "2021/08/10 12:07:06 INFO  :   801.234Mi / 6.974 GiByte, 11%, 39.516 MiByte/s, ETA 2m40s\n",
            "2021/08/10 12:07:11 INFO  :     1.016Gi / 6.974 GiByte, 15%, 42.388 MiByte/s, ETA 2m23s\n",
            "2021/08/10 12:07:16 INFO  :     1.346Gi / 6.974 GiByte, 19%, 48.137 MiByte/s, ETA 1m59s\n",
            "2021/08/10 12:07:21 INFO  :     1.800Gi / 6.974 GiByte, 26%, 60.488 MiByte/s, ETA 1m27s\n",
            "2021/08/10 12:07:26 INFO  :     2.139Gi / 6.974 GiByte, 31%, 65.087 MiByte/s, ETA 1m16s\n",
            "2021/08/10 12:07:31 INFO  :     2.421Gi / 6.974 GiByte, 35%, 62.610 MiByte/s, ETA 1m14s\n",
            "2021/08/10 12:07:36 INFO  :     2.765Gi / 6.974 GiByte, 40%, 63.330 MiByte/s, ETA 1m8s\n",
            "2021/08/10 12:07:41 INFO  :     3.082Gi / 6.974 GiByte, 44%, 64.352 MiByte/s, ETA 1m1s\n",
            "2021/08/10 12:07:46 INFO  :     3.283Gi / 6.974 GiByte, 47%, 58.886 MiByte/s, ETA 1m4s\n",
            "2021/08/10 12:07:51 INFO  :     3.549Gi / 6.974 GiByte, 51%, 56.902 MiByte/s, ETA 1m1s\n",
            "2021/08/10 12:07:56 INFO  :     3.909Gi / 6.974 GiByte, 56%, 61.773 MiByte/s, ETA 50s\n",
            "2021/08/10 12:08:01 INFO  :     4.179Gi / 6.974 GiByte, 60%, 59.977 MiByte/s, ETA 47s\n",
            "2021/08/10 12:08:06 INFO  :     4.430Gi / 6.974 GiByte, 64%, 58.155 MiByte/s, ETA 44s\n",
            "2021/08/10 12:08:11 INFO  :     4.685Gi / 6.974 GiByte, 67%, 56.968 MiByte/s, ETA 41s\n",
            "2021/08/10 12:08:16 INFO  :     5.070Gi / 6.974 GiByte, 73%, 61.412 MiByte/s, ETA 31s\n",
            "2021/08/10 12:08:21 INFO  :     5.378Gi / 6.974 GiByte, 77%, 63.306 MiByte/s, ETA 25s\n",
            "2021/08/10 12:08:26 INFO  :     5.600Gi / 6.974 GiByte, 80%, 58.534 MiByte/s, ETA 24s\n",
            "2021/08/10 12:08:31 INFO  :     5.836Gi / 6.974 GiByte, 84%, 55.067 MiByte/s, ETA 21s\n",
            "2021/08/10 12:08:36 INFO  :     6.107Gi / 6.974 GiByte, 88%, 55.115 MiByte/s, ETA 16s\n",
            "2021/08/10 12:08:41 INFO  :     6.314Gi / 6.974 GiByte, 91%, 52.103 MiByte/s, ETA 12s\n",
            "2021/08/10 12:08:46 INFO  :     6.564Gi / 6.974 GiByte, 94%, 51.742 MiByte/s, ETA 8s\n",
            "2021/08/10 12:08:51 INFO  :     6.812Gi / 6.974 GiByte, 98%, 50.917 MiByte/s, ETA 3s\n",
            "2021/08/10 12:08:51 INFO  : Profit+And+Loss+Class+1+Maths+Foundation: Copied (new)\n",
            "2021/08/10 12:08:56 INFO  :     6.974Gi / 6.974 GiByte, 100%, 47.540 MiByte/s, ETA 0s\n",
            "2021/08/10 12:09:01 INFO  :     6.974Gi / 6.974 GiByte, 100%, 34.997 MiByte/s, ETA 0s\n",
            "2021/08/10 12:09:06 INFO  :     6.974Gi / 6.974 GiByte, 100%, 25.344 MiByte/s, ETA 0s\n",
            "2021/08/10 12:09:09 INFO  : Profit+And+Loss+Class+3+Maths+Foundation: Copied (new)\n",
            "2021/08/10 12:09:11 INFO  :     6.974Gi / 6.974 GiByte, 100%, 18.354 MiByte/s, ETA 0s\n",
            "2021/08/10 12:09:15 INFO  : Profit+and+Loss+10+Foundation: Copied (new)\n",
            "2021/08/10 12:09:16 INFO  :     6.974Gi / 6.974 GiByte, 100%, 13.292 MiByte/s, ETA 0s\n",
            "2021/08/10 12:09:21 INFO  :     6.974Gi / 6.974 GiByte, 100%, 9.626 MiByte/s, ETA 0s\n",
            "2021/08/10 12:09:22 INFO  : Profit+and+Loss+11+Foundation: Copied (new)\n",
            "2021/08/10 12:09:26 INFO  :     6.974Gi / 6.974 GiByte, 100%, 6.971 MiByte/s, ETA 0s\n",
            "2021/08/10 12:09:31 INFO  :     6.974Gi / 6.974 GiByte, 100%, 5.049 MiByte/s, ETA 0s\n",
            "2021/08/10 12:09:36 INFO  :     6.974Gi / 6.974 GiByte, 100%, 3.656 MiByte/s, ETA 0s\n",
            "2021/08/10 12:09:41 INFO  :     6.974Gi / 6.974 GiByte, 100%, 2.648 MiByte/s, ETA 0s\n",
            "2021/08/10 12:09:42 INFO  : Profit+and+Loss+Foundation+9+Fooundation: Copied (new)\n",
            "2021/08/10 12:09:45 INFO  : Class-7+Profit+And+Loss: Copied (new)\n",
            "2021/08/10 12:09:46 INFO  :     6.974Gi / 6.974 GiByte, 100%, 1.917 MiByte/s, ETA 0s\n",
            "2021/08/10 12:09:51 INFO  :     6.974Gi / 6.974 GiByte, 100%, 1.389 MiByte/s, ETA 0s\n",
            "2021/08/10 12:09:56 INFO  :     6.974Gi / 6.974 GiByte, 100%, 1.006 MiByte/s, ETA 0s\n",
            "2021/08/10 12:09:58 INFO  : Profit+and+Loss+12+Foundation: Copied (new)\n",
            "2021/08/10 12:10:01 INFO  :     6.974Gi / 6.974 GiByte, 100%, 745.765 KiByte/s, ETA 0s\n",
            "2021/08/10 12:10:01 INFO  : Profit+And+Loss+Class+4+New+Maths+Foundation: Copied (new)\n",
            "2021/08/10 12:10:04 INFO  : Profit+And+Loss+Class+5+Maths+Foundation: Copied (new)\n",
            "2021/08/10 12:10:06 INFO  :     6.974Gi / 6.974 GiByte, 100%, 540.080 KiByte/s, ETA 0s\n"
          ],
          "name": "stdout"
        }
      ]
    }
  ]
}